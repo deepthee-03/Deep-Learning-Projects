{
 "cells": [
  {
   "cell_type": "code",
   "execution_count": 4,
   "id": "7e3acdc9-9752-48bb-9ddb-c3caaddbb3d4",
   "metadata": {},
   "outputs": [
    {
     "ename": "ModuleNotFoundError",
     "evalue": "No module named 'tabulate'",
     "output_type": "error",
     "traceback": [
      "\u001b[1;31m---------------------------------------------------------------------------\u001b[0m",
      "\u001b[1;31mModuleNotFoundError\u001b[0m                       Traceback (most recent call last)",
      "Cell \u001b[1;32mIn[4], line 12\u001b[0m\n\u001b[0;32m     10\u001b[0m \u001b[38;5;28;01mfrom\u001b[39;00m \u001b[38;5;21;01mskimage\u001b[39;00m\u001b[38;5;21;01m.\u001b[39;00m\u001b[38;5;21;01mmetrics\u001b[39;00m \u001b[38;5;28;01mimport\u001b[39;00m structural_similarity \u001b[38;5;28;01mas\u001b[39;00m ssim\n\u001b[0;32m     11\u001b[0m \u001b[38;5;28;01mfrom\u001b[39;00m \u001b[38;5;21;01mmath\u001b[39;00m \u001b[38;5;28;01mimport\u001b[39;00m log10\n\u001b[1;32m---> 12\u001b[0m \u001b[38;5;28;01mfrom\u001b[39;00m \u001b[38;5;21;01mtabulate\u001b[39;00m \u001b[38;5;28;01mimport\u001b[39;00m tabulate\n\u001b[0;32m     14\u001b[0m \u001b[38;5;66;03m# Load and preprocess data\u001b[39;00m\n\u001b[0;32m     15\u001b[0m (x_train, _), (x_test, _) \u001b[38;5;241m=\u001b[39m mnist\u001b[38;5;241m.\u001b[39mload_data()\n",
      "\u001b[1;31mModuleNotFoundError\u001b[0m: No module named 'tabulate'"
     ]
    }
   ],
   "source": [
    "import numpy as np\n",
    "import matplotlib.pyplot as plt\n",
    "from tensorflow.keras.datasets import mnist\n",
    "from tensorflow.keras.models import Model\n",
    "from tensorflow.keras.layers import Input, Dense\n",
    "from tensorflow.keras.optimizers import Adam\n",
    "from sklearn.metrics import mean_squared_error, mean_absolute_error\n",
    "from sklearn.metrics import r2_score\n",
    "from sklearn.metrics.pairwise import cosine_similarity\n",
    "from skimage.metrics import structural_similarity as ssim\n",
    "from math import log10\n",
    "from tabulate import tabulate\n",
    "\n",
    "# Load and preprocess data\n",
    "(x_train, _), (x_test, _) = mnist.load_data()\n",
    "x_train, x_test = x_train.reshape(-1, 784) / 255.0, x_test.reshape(-1, 784) / 255.0\n",
    "\n",
    "# Build autoencoder model\n",
    "input_img = Input(shape=(784,))\n",
    "encoded = Dense(128, activation='relu')(input_img)\n",
    "encoded = Dense(64, activation='relu')(encoded)\n",
    "encoded = Dense(32, activation='relu')(encoded)\n",
    "decoded = Dense(64, activation='relu')(encoded)\n",
    "decoded = Dense(128, activation='relu')(decoded)\n",
    "decoded = Dense(784, activation='sigmoid')(decoded)\n",
    "autoencoder = Model(input_img, decoded)\n",
    "encoder = Model(input_img, encoded)\n",
    "autoencoder.compile(optimizer=Adam(), loss='binary_crossentropy')\n",
    "\n",
    "# Train the model\n",
    "autoencoder.fit(x_train, x_train, epochs=50, batch_size=256, validation_data=(x_test, x_test))\n",
    "\n",
    "# Get the reconstructed images\n",
    "reconstructed = autoencoder.predict(x_test)\n",
    "\n",
    "# Compute performance metrics\n",
    "mse = mean_squared_error(x_test, reconstructed)\n",
    "mae = mean_absolute_error(x_test, reconstructed)\n",
    "rmse = np.sqrt(mse)\n",
    "r2 = r2_score(x_test, reconstructed)\n",
    "cos_sim = cosine_similarity(x_test, reconstructed)\n",
    "ssim_value = np.mean([ssim(x_test[i].reshape(28, 28), reconstructed[i].reshape(28, 28), data_range=1) for i in range(x_test.shape[0])])\n",
    "psnr_value = np.mean([10 * log10(1 / mean_squared_error(x_test[i], reconstructed[i])) for i in range(x_test.shape[0])])\n",
    "\n",
    "# Prepare the metrics table\n",
    "metrics_table = [\n",
    "    [\"Mean Squared Error (MSE)\", mse],\n",
    "    [\"Mean Absolute Error (MAE)\", mae],\n",
    "    [\"Root Mean Squared Error (RMSE)\", rmse],\n",
    "    [\"R-Squared (R²)\", r2],\n",
    "    [\"Cosine Similarity\", np.mean(cos_sim)],\n",
    "    [\"Structural Similarity Index (SSIM)\", ssim_value],\n",
    "    [\"Peak Signal-to-Noise Ratio (PSNR)\", psnr_value]\n",
    "]\n",
    "\n",
    "# Display the metrics table\n",
    "print(tabulate(metrics_table, headers=[\"Metric\", \"Value\"], tablefmt=\"fancy_grid\"))\n",
    "\n",
    "# Visualization of original, reconstructed, and encoded images\n",
    "indices = np.random.randint(0, x_test.shape[0], 10)\n",
    "selected_images = x_test[indices]\n",
    "reconstructed_images = autoencoder.predict(selected_images)\n",
    "encoded_imgs = encoder.predict(selected_images)\n",
    "\n",
    "# Plot the images\n",
    "plt.figure(figsize=(18, 6))\n",
    "for i in range(10):\n",
    "    # Display original images\n",
    "    plt.subplot(3, 10, i + 1)\n",
    "    plt.imshow(selected_images[i].reshape(28, 28), cmap='gray')\n",
    "    plt.axis('off')\n",
    "\n",
    "    # Display reconstructed images\n",
    "    plt.subplot(3, 10, i + 11)\n",
    "    plt.imshow(reconstructed_images[i].reshape(28, 28), cmap='gray')\n",
    "    plt.axis('off')\n",
    "\n",
    "    # Display encoded images (bars or scatter plot)\n",
    "    plt.subplot(3, 10, i + 21)\n",
    "    if encoded_imgs.shape[1] > 2:\n",
    "        plt.bar(range(32), encoded_imgs[i])  # Plot bars for high dimensional encoding\n",
    "    else:\n",
    "        plt.scatter(encoded_imgs[i, 0], encoded_imgs[i, 1])  # Scatter plot for 2D encoding\n",
    "    plt.axis('off')\n",
    "\n",
    "plt.show()"
   ]
  },
  {
   "cell_type": "code",
   "execution_count": 5,
   "id": "6b107ccc-3f08-41fc-be4a-f8a8b1491fc5",
   "metadata": {},
   "outputs": [
    {
     "name": "stdout",
     "output_type": "stream",
     "text": [
      "Collecting tabulate\n",
      "  Downloading tabulate-0.9.0-py3-none-any.whl.metadata (34 kB)\n",
      "Downloading tabulate-0.9.0-py3-none-any.whl (35 kB)\n",
      "Installing collected packages: tabulate\n",
      "Successfully installed tabulate-0.9.0\n"
     ]
    },
    {
     "name": "stderr",
     "output_type": "stream",
     "text": [
      "\n",
      "[notice] A new release of pip is available: 24.0 -> 25.0\n",
      "[notice] To update, run: python.exe -m pip install --upgrade pip\n"
     ]
    }
   ],
   "source": [
    "!pip install tabulate"
   ]
  }
 ],
 "metadata": {
  "kernelspec": {
   "display_name": "Python 3 (ipykernel)",
   "language": "python",
   "name": "python3"
  },
  "language_info": {
   "codemirror_mode": {
    "name": "ipython",
    "version": 3
   },
   "file_extension": ".py",
   "mimetype": "text/x-python",
   "name": "python",
   "nbconvert_exporter": "python",
   "pygments_lexer": "ipython3",
   "version": "3.12.4"
  }
 },
 "nbformat": 4,
 "nbformat_minor": 5
}
